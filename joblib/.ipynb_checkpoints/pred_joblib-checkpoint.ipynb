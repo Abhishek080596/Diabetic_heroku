{
 "cells": [
  {
   "cell_type": "code",
   "execution_count": 4,
   "id": "a9292750",
   "metadata": {},
   "outputs": [],
   "source": [
    "#we'll put this in production"
   ]
  },
  {
   "cell_type": "markdown",
   "id": "38ee73b1",
   "metadata": {},
   "source": [
    "# load the model"
   ]
  },
  {
   "cell_type": "code",
   "execution_count": 5,
   "id": "25e84dcb",
   "metadata": {},
   "outputs": [],
   "source": [
    "import joblib"
   ]
  },
  {
   "cell_type": "code",
   "execution_count": 6,
   "id": "5e9aaf0f",
   "metadata": {},
   "outputs": [],
   "source": [
    "model2 = joblib.load(open('diabetic_80.pkl','rb'))\n",
    "data = model2.predict([[1,2,3,4,5,6,7,8]])"
   ]
  },
  {
   "cell_type": "code",
   "execution_count": 7,
   "id": "f88ced57",
   "metadata": {},
   "outputs": [
    {
     "name": "stdout",
     "output_type": "stream",
     "text": [
      "person is diabetic\n"
     ]
    }
   ],
   "source": [
    "if data[0] == 0:\n",
    "    print('person in not diabetic')\n",
    "else:\n",
    "    print('person is diabetic')"
   ]
  },
  {
   "cell_type": "code",
   "execution_count": null,
   "id": "a866f822",
   "metadata": {},
   "outputs": [],
   "source": []
  },
  {
   "cell_type": "code",
   "execution_count": 9,
   "id": "92a0b598",
   "metadata": {},
   "outputs": [
    {
     "name": "stdout",
     "output_type": "stream",
     "text": [
      "person is diabetic\n"
     ]
    }
   ],
   "source": [
    "# load the model\n",
    "\n",
    "\n",
    "\n",
    "model2 = joblib.load(open('diabetic_80.pkl','rb'))\n",
    "data = model2.predict([[1,2,3,4,5,6,7,8]])\n",
    "\n",
    "if data[0] == 0:\n",
    "    print('person in not diabetic')\n",
    "else:\n",
    "    print('person is diabetic')\n",
    "\n"
   ]
  },
  {
   "cell_type": "code",
   "execution_count": null,
   "id": "7b21cae6",
   "metadata": {},
   "outputs": [],
   "source": [
    "# i can do model.fit() on new data here after loading to retrain the model"
   ]
  },
  {
   "cell_type": "code",
   "execution_count": null,
   "id": "e97a055e",
   "metadata": {},
   "outputs": [],
   "source": []
  }
 ],
 "metadata": {
  "kernelspec": {
   "display_name": "Python 3 (ipykernel)",
   "language": "python",
   "name": "python3"
  },
  "language_info": {
   "codemirror_mode": {
    "name": "ipython",
    "version": 3
   },
   "file_extension": ".py",
   "mimetype": "text/x-python",
   "name": "python",
   "nbconvert_exporter": "python",
   "pygments_lexer": "ipython3",
   "version": "3.9.13"
  }
 },
 "nbformat": 4,
 "nbformat_minor": 5
}
