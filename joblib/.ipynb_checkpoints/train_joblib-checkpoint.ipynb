{
 "cells": [
  {
   "cell_type": "code",
   "execution_count": 2,
   "id": "d9d45d62",
   "metadata": {},
   "outputs": [],
   "source": [
    "import pandas as pd\n",
    "from sklearn import model_selection\n",
    "from sklearn.linear_model import LogisticRegression"
   ]
  },
  {
   "cell_type": "code",
   "execution_count": 3,
   "id": "b903e98c",
   "metadata": {},
   "outputs": [],
   "source": [
    "import joblib\n",
    "\n",
    "#to save model"
   ]
  },
  {
   "cell_type": "code",
   "execution_count": 4,
   "id": "1ffc8ece",
   "metadata": {},
   "outputs": [],
   "source": [
    "url = 'https://raw.githubusercontent.com/jbrownlee/Datasets/master/pima-indians-diabetes.data.csv'"
   ]
  },
  {
   "cell_type": "code",
   "execution_count": 5,
   "id": "d1d4bf18",
   "metadata": {},
   "outputs": [],
   "source": [
    "names = ['preg' , 'plas' , 'pres' , 'skin' , 'test' , 'mass' , 'pedi' , 'age' , 'class']"
   ]
  },
  {
   "cell_type": "code",
   "execution_count": 6,
   "id": "ae1961b3",
   "metadata": {},
   "outputs": [],
   "source": [
    "df = pd.read_csv(url , names = names)"
   ]
  },
  {
   "cell_type": "code",
   "execution_count": 7,
   "id": "c5bd5358",
   "metadata": {},
   "outputs": [
    {
     "name": "stdout",
     "output_type": "stream",
     "text": [
      "   preg  plas  pres  skin  test  mass   pedi  age  class\n",
      "0     6   148    72    35     0  33.6  0.627   50      1\n",
      "1     1    85    66    29     0  26.6  0.351   31      0\n",
      "2     8   183    64     0     0  23.3  0.672   32      1\n",
      "3     1    89    66    23    94  28.1  0.167   21      0\n",
      "4     0   137    40    35   168  43.1  2.288   33      1\n"
     ]
    }
   ],
   "source": [
    "print(df.head())"
   ]
  },
  {
   "cell_type": "code",
   "execution_count": 8,
   "id": "5ae725c5",
   "metadata": {},
   "outputs": [],
   "source": [
    "arr = df.values"
   ]
  },
  {
   "cell_type": "code",
   "execution_count": null,
   "id": "39a046e9",
   "metadata": {},
   "outputs": [],
   "source": [
    "X , Y = arr[:,0:8] , arr[:,8]"
   ]
  },
  {
   "cell_type": "code",
   "execution_count": null,
   "id": "8f0415b6",
   "metadata": {},
   "outputs": [],
   "source": [
    "X_train , X_test , Y_train , Y_test = model_selection.train_test_split(X,Y,test_size=0.2,random_state=101)"
   ]
  },
  {
   "cell_type": "code",
   "execution_count": null,
   "id": "454b6c28",
   "metadata": {},
   "outputs": [],
   "source": [
    "model = LogisticRegression()\n",
    "model.fit(X_train,Y_train)\n",
    "print('INFO - model has trained')"
   ]
  },
  {
   "cell_type": "code",
   "execution_count": null,
   "id": "01407658",
   "metadata": {},
   "outputs": [],
   "source": [
    "result = model.score(X_test,Y_test)"
   ]
  },
  {
   "cell_type": "code",
   "execution_count": null,
   "id": "26272f60",
   "metadata": {},
   "outputs": [],
   "source": [
    "print(f'model accuracy is {result}')"
   ]
  },
  {
   "cell_type": "code",
   "execution_count": null,
   "id": "7645c6e6",
   "metadata": {},
   "outputs": [],
   "source": [
    "model.predict(X_test)"
   ]
  },
  {
   "cell_type": "code",
   "execution_count": null,
   "id": "35461aa3",
   "metadata": {},
   "outputs": [],
   "source": [
    "#take live data\n",
    "\n",
    "data = model.predict([[1,1,1,1,1,1,1,1]])    \n",
    "if data[0] == 0:\n",
    "    print('person in not diabetic')\n",
    "else:\n",
    "    print('person is diabetic')"
   ]
  },
  {
   "cell_type": "markdown",
   "id": "99a49ee6",
   "metadata": {},
   "source": [
    "# model saving"
   ]
  },
  {
   "cell_type": "code",
   "execution_count": null,
   "id": "693a14f9",
   "metadata": {},
   "outputs": [],
   "source": [
    "filename = 'diabetic_80.pkl' #or .sav\n",
    "\n",
    "joblib.dump(model , filename)\n",
    "\n",
    "#model we want to save , filename only"
   ]
  }
 ],
 "metadata": {
  "kernelspec": {
   "display_name": "Python 3 (ipykernel)",
   "language": "python",
   "name": "python3"
  },
  "language_info": {
   "codemirror_mode": {
    "name": "ipython",
    "version": 3
   },
   "file_extension": ".py",
   "mimetype": "text/x-python",
   "name": "python",
   "nbconvert_exporter": "python",
   "pygments_lexer": "ipython3",
   "version": "3.9.13"
  }
 },
 "nbformat": 4,
 "nbformat_minor": 5
}
