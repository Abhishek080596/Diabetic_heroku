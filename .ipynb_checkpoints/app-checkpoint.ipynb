{
 "cells": [
  {
   "cell_type": "code",
   "execution_count": 8,
   "id": "e4f7845a",
   "metadata": {},
   "outputs": [],
   "source": [
    "from flask import Flask"
   ]
  },
  {
   "cell_type": "code",
   "execution_count": 9,
   "id": "8f86c93c",
   "metadata": {},
   "outputs": [],
   "source": [
    "app = Flask(__name__)"
   ]
  },
  {
   "cell_type": "code",
   "execution_count": 10,
   "id": "ed541587",
   "metadata": {},
   "outputs": [],
   "source": [
    "# @app.route will find the mentioned word in browser url......whichever found, that will be displayed\n",
    "\n",
    "@app.route('/galary')\n",
    "def gal():\n",
    "    return('welcome to gallery')\n",
    "\n"
   ]
  },
  {
   "cell_type": "code",
   "execution_count": 11,
   "id": "9fd433a9",
   "metadata": {},
   "outputs": [],
   "source": [
    "@app.route('/')\n",
    "def bas():\n",
    "    return('welcome to home')\n",
    "\n",
    "@app.route('/cart')\n",
    "def cart():\n",
    "    return('welcome to cart page')\n",
    "\n",
    "@app.route('/contact')\n",
    "def con():\n",
    "    return('wlecome to contact page')"
   ]
  },
  {
   "cell_type": "code",
   "execution_count": 12,
   "id": "a88e953c",
   "metadata": {},
   "outputs": [
    {
     "name": "stdout",
     "output_type": "stream",
     "text": [
      " * Serving Flask app \"__main__\" (lazy loading)\n",
      " * Environment: production\n",
      "\u001b[31m   WARNING: This is a development server. Do not use it in a production deployment.\u001b[0m\n",
      "\u001b[2m   Use a production WSGI server instead.\u001b[0m\n",
      " * Debug mode: off\n"
     ]
    },
    {
     "name": "stderr",
     "output_type": "stream",
     "text": [
      " * Running on http://127.0.0.1:5000/ (Press CTRL+C to quit)\n",
      "127.0.0.1 - - [30/Sep/2023 21:18:10] \"GET / HTTP/1.1\" 200 -\n"
     ]
    }
   ],
   "source": [
    "app.run()\n",
    "\n",
    "#app.run(debug = True)\n",
    "#if debug = True, i don't hav to close & run file again after changing file"
   ]
  },
  {
   "cell_type": "code",
   "execution_count": 13,
   "id": "d6816b2c",
   "metadata": {},
   "outputs": [],
   "source": [
    "#after copying above link, i can replace last '/' with above mentioned words to route to that function"
   ]
  }
 ],
 "metadata": {
  "kernelspec": {
   "display_name": "Python 3 (ipykernel)",
   "language": "python",
   "name": "python3"
  },
  "language_info": {
   "codemirror_mode": {
    "name": "ipython",
    "version": 3
   },
   "file_extension": ".py",
   "mimetype": "text/x-python",
   "name": "python",
   "nbconvert_exporter": "python",
   "pygments_lexer": "ipython3",
   "version": "3.9.13"
  }
 },
 "nbformat": 4,
 "nbformat_minor": 5
}
